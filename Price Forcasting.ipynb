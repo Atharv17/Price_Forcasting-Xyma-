{
 "cells": [
  {
   "cell_type": "markdown",
   "metadata": {},
   "source": [
    "## Analysis and Prediction of the Price for the Agriculture Commodity Data "
   ]
  },
  {
   "cell_type": "markdown",
   "metadata": {},
   "source": [
    "### Data\n",
    "     \n",
    "    * Used data.csv from the mail.\n",
    "    * Contains information about the different agriculture commodity. "
   ]
  },
  {
   "cell_type": "code",
   "execution_count": 133,
   "metadata": {},
   "outputs": [],
   "source": [
    "## Importing all the necessary Packages \n",
    "import pandas as pd \n",
    "import re\n",
    "import  matplotlib.pyplot as plt\n",
    "from statsmodels.tsa.seasonal import seasonal_decompose\n",
    "from statsmodels.tsa.holtwinters import SimpleExpSmoothing   \n",
    "from statsmodels.tsa.holtwinters import ExponentialSmoothing\n",
    "from datetime import timedelta, date"
   ]
  },
  {
   "cell_type": "code",
   "execution_count": 42,
   "metadata": {},
   "outputs": [
    {
     "data": {
      "text/html": [
       "<div>\n",
       "<style scoped>\n",
       "    .dataframe tbody tr th:only-of-type {\n",
       "        vertical-align: middle;\n",
       "    }\n",
       "\n",
       "    .dataframe tbody tr th {\n",
       "        vertical-align: top;\n",
       "    }\n",
       "\n",
       "    .dataframe thead th {\n",
       "        text-align: right;\n",
       "    }\n",
       "</style>\n",
       "<table border=\"1\" class=\"dataframe\">\n",
       "  <thead>\n",
       "    <tr style=\"text-align: right;\">\n",
       "      <th></th>\n",
       "      <th>priceDate</th>\n",
       "      <th>itemName</th>\n",
       "      <th>state</th>\n",
       "      <th>mandiName</th>\n",
       "      <th>arrivals</th>\n",
       "      <th>unitArrivals</th>\n",
       "      <th>variety</th>\n",
       "      <th>minPrice</th>\n",
       "      <th>maxPrice</th>\n",
       "      <th>modalPrice</th>\n",
       "      <th>priceUnit</th>\n",
       "    </tr>\n",
       "  </thead>\n",
       "  <tbody>\n",
       "    <tr>\n",
       "      <th>0</th>\n",
       "      <td>2005-04-11</td>\n",
       "      <td>Potato</td>\n",
       "      <td>NCT of Delhi</td>\n",
       "      <td>Azadpur</td>\n",
       "      <td>106.0</td>\n",
       "      <td>Tonnes</td>\n",
       "      <td>F.A.Q.</td>\n",
       "      <td>300.0</td>\n",
       "      <td>663.0</td>\n",
       "      <td>475.0</td>\n",
       "      <td>Rs/Quintal</td>\n",
       "    </tr>\n",
       "    <tr>\n",
       "      <th>1</th>\n",
       "      <td>2005-04-12</td>\n",
       "      <td>Potato</td>\n",
       "      <td>NCT of Delhi</td>\n",
       "      <td>Azadpur</td>\n",
       "      <td>1745.0</td>\n",
       "      <td>Tonnes</td>\n",
       "      <td>F.A.Q.</td>\n",
       "      <td>325.0</td>\n",
       "      <td>688.0</td>\n",
       "      <td>500.0</td>\n",
       "      <td>Rs/Quintal</td>\n",
       "    </tr>\n",
       "    <tr>\n",
       "      <th>2</th>\n",
       "      <td>2005-04-13</td>\n",
       "      <td>Potato</td>\n",
       "      <td>NCT of Delhi</td>\n",
       "      <td>Azadpur</td>\n",
       "      <td>1233.0</td>\n",
       "      <td>Tonnes</td>\n",
       "      <td>F.A.Q.</td>\n",
       "      <td>300.0</td>\n",
       "      <td>688.0</td>\n",
       "      <td>488.0</td>\n",
       "      <td>Rs/Quintal</td>\n",
       "    </tr>\n",
       "    <tr>\n",
       "      <th>3</th>\n",
       "      <td>2005-04-16</td>\n",
       "      <td>Potato</td>\n",
       "      <td>NCT of Delhi</td>\n",
       "      <td>Azadpur</td>\n",
       "      <td>1654.0</td>\n",
       "      <td>Tonnes</td>\n",
       "      <td>F.A.Q.</td>\n",
       "      <td>350.0</td>\n",
       "      <td>650.0</td>\n",
       "      <td>475.0</td>\n",
       "      <td>Rs/Quintal</td>\n",
       "    </tr>\n",
       "    <tr>\n",
       "      <th>4</th>\n",
       "      <td>2005-04-18</td>\n",
       "      <td>Potato</td>\n",
       "      <td>NCT of Delhi</td>\n",
       "      <td>Azadpur</td>\n",
       "      <td>26.0</td>\n",
       "      <td>Tonnes</td>\n",
       "      <td>F.A.Q.</td>\n",
       "      <td>350.0</td>\n",
       "      <td>650.0</td>\n",
       "      <td>475.0</td>\n",
       "      <td>Rs/Quintal</td>\n",
       "    </tr>\n",
       "    <tr>\n",
       "      <th>...</th>\n",
       "      <td>...</td>\n",
       "      <td>...</td>\n",
       "      <td>...</td>\n",
       "      <td>...</td>\n",
       "      <td>...</td>\n",
       "      <td>...</td>\n",
       "      <td>...</td>\n",
       "      <td>...</td>\n",
       "      <td>...</td>\n",
       "      <td>...</td>\n",
       "      <td>...</td>\n",
       "    </tr>\n",
       "    <tr>\n",
       "      <th>3800</th>\n",
       "      <td>2018-08-27</td>\n",
       "      <td>Potato</td>\n",
       "      <td>NCT of Delhi</td>\n",
       "      <td>Azadpur</td>\n",
       "      <td>97.1</td>\n",
       "      <td>Tonnes</td>\n",
       "      <td>Potato</td>\n",
       "      <td>700.0</td>\n",
       "      <td>2400.0</td>\n",
       "      <td>1410.0</td>\n",
       "      <td>Rs/Quintal</td>\n",
       "    </tr>\n",
       "    <tr>\n",
       "      <th>3801</th>\n",
       "      <td>2018-08-28</td>\n",
       "      <td>Potato</td>\n",
       "      <td>NCT of Delhi</td>\n",
       "      <td>Azadpur</td>\n",
       "      <td>973.5</td>\n",
       "      <td>Tonnes</td>\n",
       "      <td>Potato</td>\n",
       "      <td>700.0</td>\n",
       "      <td>2400.0</td>\n",
       "      <td>1410.0</td>\n",
       "      <td>Rs/Quintal</td>\n",
       "    </tr>\n",
       "    <tr>\n",
       "      <th>3802</th>\n",
       "      <td>2018-08-29</td>\n",
       "      <td>Potato</td>\n",
       "      <td>NCT of Delhi</td>\n",
       "      <td>Azadpur</td>\n",
       "      <td>1317.9</td>\n",
       "      <td>Tonnes</td>\n",
       "      <td>Potato</td>\n",
       "      <td>700.0</td>\n",
       "      <td>2400.0</td>\n",
       "      <td>1410.0</td>\n",
       "      <td>Rs/Quintal</td>\n",
       "    </tr>\n",
       "    <tr>\n",
       "      <th>3803</th>\n",
       "      <td>2018-08-30</td>\n",
       "      <td>Potato</td>\n",
       "      <td>NCT of Delhi</td>\n",
       "      <td>Azadpur</td>\n",
       "      <td>1375.3</td>\n",
       "      <td>Tonnes</td>\n",
       "      <td>Potato</td>\n",
       "      <td>700.0</td>\n",
       "      <td>2400.0</td>\n",
       "      <td>1410.0</td>\n",
       "      <td>Rs/Quintal</td>\n",
       "    </tr>\n",
       "    <tr>\n",
       "      <th>3804</th>\n",
       "      <td>2018-08-31</td>\n",
       "      <td>Potato</td>\n",
       "      <td>NCT of Delhi</td>\n",
       "      <td>Azadpur</td>\n",
       "      <td>1121.0</td>\n",
       "      <td>Tonnes</td>\n",
       "      <td>Potato</td>\n",
       "      <td>700.0</td>\n",
       "      <td>2400.0</td>\n",
       "      <td>1411.0</td>\n",
       "      <td>Rs/Quintal</td>\n",
       "    </tr>\n",
       "  </tbody>\n",
       "</table>\n",
       "<p>3805 rows × 11 columns</p>\n",
       "</div>"
      ],
      "text/plain": [
       "       priceDate itemName         state mandiName  arrivals unitArrivals  \\\n",
       "0     2005-04-11   Potato  NCT of Delhi   Azadpur     106.0       Tonnes   \n",
       "1     2005-04-12   Potato  NCT of Delhi   Azadpur    1745.0       Tonnes   \n",
       "2     2005-04-13   Potato  NCT of Delhi   Azadpur    1233.0       Tonnes   \n",
       "3     2005-04-16   Potato  NCT of Delhi   Azadpur    1654.0       Tonnes   \n",
       "4     2005-04-18   Potato  NCT of Delhi   Azadpur      26.0       Tonnes   \n",
       "...          ...      ...           ...       ...       ...          ...   \n",
       "3800  2018-08-27   Potato  NCT of Delhi   Azadpur      97.1       Tonnes   \n",
       "3801  2018-08-28   Potato  NCT of Delhi   Azadpur     973.5       Tonnes   \n",
       "3802  2018-08-29   Potato  NCT of Delhi   Azadpur    1317.9       Tonnes   \n",
       "3803  2018-08-30   Potato  NCT of Delhi   Azadpur    1375.3       Tonnes   \n",
       "3804  2018-08-31   Potato  NCT of Delhi   Azadpur    1121.0       Tonnes   \n",
       "\n",
       "     variety  minPrice  maxPrice  modalPrice   priceUnit  \n",
       "0     F.A.Q.     300.0     663.0       475.0  Rs/Quintal  \n",
       "1     F.A.Q.     325.0     688.0       500.0  Rs/Quintal  \n",
       "2     F.A.Q.     300.0     688.0       488.0  Rs/Quintal  \n",
       "3     F.A.Q.     350.0     650.0       475.0  Rs/Quintal  \n",
       "4     F.A.Q.     350.0     650.0       475.0  Rs/Quintal  \n",
       "...      ...       ...       ...         ...         ...  \n",
       "3800  Potato     700.0    2400.0      1410.0  Rs/Quintal  \n",
       "3801  Potato     700.0    2400.0      1410.0  Rs/Quintal  \n",
       "3802  Potato     700.0    2400.0      1410.0  Rs/Quintal  \n",
       "3803  Potato     700.0    2400.0      1410.0  Rs/Quintal  \n",
       "3804  Potato     700.0    2400.0      1411.0  Rs/Quintal  \n",
       "\n",
       "[3805 rows x 11 columns]"
      ]
     },
     "execution_count": 42,
     "metadata": {},
     "output_type": "execute_result"
    }
   ],
   "source": [
    "## Importing the Data \n",
    "data = pd.read_csv(\"data.csv\")\n",
    "data"
   ]
  },
  {
   "cell_type": "code",
   "execution_count": 43,
   "metadata": {
    "scrolled": true
   },
   "outputs": [
    {
     "data": {
      "text/plain": [
       "Index(['priceDate', 'itemName', 'state', 'mandiName', 'arrivals',\n",
       "       'unitArrivals', 'variety', 'minPrice', 'maxPrice', 'modalPrice',\n",
       "       'priceUnit'],\n",
       "      dtype='object')"
      ]
     },
     "execution_count": 43,
     "metadata": {},
     "output_type": "execute_result"
    }
   ],
   "source": [
    "data.columns ## Getting all number of columns "
   ]
  },
  {
   "cell_type": "code",
   "execution_count": 44,
   "metadata": {
    "scrolled": false
   },
   "outputs": [
    {
     "name": "stdout",
     "output_type": "stream",
     "text": [
      "['2005-04-11' '2005-04-12' '2005-04-13' ... '2018-08-29' '2018-08-30'\n",
      " '2018-08-31']\n",
      "Number of Unique values in priceDate is 3745\n",
      "\n",
      "\n",
      "['Potato']\n",
      "Number of Unique values in itemName is 1\n",
      "\n",
      "\n",
      "['NCT of Delhi']\n",
      "Number of Unique values in state is 1\n",
      "\n",
      "\n",
      "['Azadpur']\n",
      "Number of Unique values in mandiName is 1\n",
      "\n",
      "\n",
      "[ 106.  1745.  1233.  ... 1317.9 1375.3 1121. ]\n",
      "Number of Unique values in arrivals is 3073\n",
      "\n",
      "\n",
      "['Tonnes']\n",
      "Number of Unique values in unitArrivals is 1\n",
      "\n",
      "\n",
      "['F.A.Q.' 'Potato' 'Other']\n",
      "Number of Unique values in variety is 3\n",
      "\n",
      "\n",
      "[ 300.  325.  350.  313.  344.  375.  338.  438.  425.  406.  400.  413.\n",
      "  388.  363.  450.  500.  563.  531.  725.  763.  594.  475.  625.  525.\n",
      "  280.  463.  225.  422.  433.  444.  431.  275.  250.  600.  560.  590.\n",
      "  630.  688.  750.  875.  281.  188.  213.  219.  200.  480.  538.  550.\n",
      "  575.  700.  800.  900.  650.   nan  288.  150. 1300.  175.  160.  120.\n",
      "  140.  180.  220.  238.  240.  260.  580.  588.  788.  775.  813.  844.\n",
      " 1125.  938. 1000.  663.  640.  540.  520.  660.  440.  430.  460.  360.\n",
      "  340.  320.  125.   60.  100.  760.  880.  840.  720.  960. 1050.  975.\n",
      " 1040.  656.  680.  850.  668. 1100. 1200. 1240.  940.  950.  970.  740.\n",
      "  490. 1625.  620.  920. 1160. 1280. 1260. 1250. 1063. 1350. 1360. 1188.\n",
      " 1340. 1400. 1450. 1375. 1900. 1500. 1560. 1550. 1600. 1438. 1800. 1750.\n",
      " 1875. 2000. 2100. 1700. 1650.  946. 1060.  470.  270.  469.  190.  380.]\n",
      "Number of Unique values in minPrice is 144\n",
      "\n",
      "\n",
      "[  663.   688.   650.   675.   700.   713.   750.   775.   788.   875.\n",
      "   850.   938.  1000.  1063.  1075.   950.  1125.  1150.  1188.   900.\n",
      "   975.   925.   906.  1250.  1156.  1025.  1200.  1031.   969.  1050.\n",
      "  1094.   600.  1450.   813.   588.   575.   638.   625.  1225.   725.\n",
      "   988.   350.   400.   963.   450.  1038.   500.   300.   550.  1088.\n",
      "   590.   610.   620.   670.  1213.  1375.  1500.   363.   388.   513.\n",
      "   463.   438.   425.   475.   800.   825.   535.  1163.  1350.  1313.\n",
      "  1400.   531.   488.   519.   525.  1600.   290.   563.  1100.  1013.\n",
      "  1175.   440.   360.   325.   320.   288.   280.   275.   380.   413.\n",
      "   538.   640.   680.  2000.   780.   763.  1120.  1140.  1440.  1620.\n",
      "  1630.  1563.  1680.  1625.  1750.  1800.  1850.  2375.  1688.  1640.\n",
      "  1626.  1560.  1525.  1875.  1813.  2125.  2250.  2100.  2063.  2025.\n",
      "  1975.  2425.  2313.  2200.  2128.  2050.  1700.  1650.  1160.   760.\n",
      "   740.   660.   720.   520.    nan   530.   560.   540.   580.   480.\n",
      "   460.   860.  1360.  1300.  1550.  1520.  1438.  1340.  1219.  1320.\n",
      "  1260.  1420.   960.   880.   420.   430.   840.  1040.  1020.  1080.\n",
      "  1656.  1900.  2400.  2350.  2300.  2224.  2500.  1950.  1938.  1240.\n",
      "  2875.   830.   920.  1060.  1760.  2750.  1860.  1840.  2040.  2160.\n",
      "  2650.  2900.  3000.  3400.  2813.  2625.  2800.  3125.  2600.  1720.\n",
      "  1430.  1220.   980.  3500.   940.  1540.  2188.  2325. 20580.  2260.\n",
      "  2700.  3100.  3200.  3300.  3800.  4000.  2850.  3750.   870.  7600.\n",
      "  1880.  1920.  1480.  1960.  2360.  2420.  1380.  1940.]\n",
      "Number of Unique values in maxPrice is 218\n",
      "\n",
      "\n",
      "[ 475.  500.  488. ... 1305. 1392. 1411.]\n",
      "Number of Unique values in modalPrice is 1078\n",
      "\n",
      "\n",
      "['Rs/Quintal']\n",
      "Number of Unique values in priceUnit is 1\n",
      "\n",
      "\n"
     ]
    }
   ],
   "source": [
    "## Getting the all the unique values in each column.\n",
    "## Also getting the number of unique value in each column.\n",
    "for i in data.columns:\n",
    "    print(data[i].unique())\n",
    "    print('Number of Unique values in {} is {}'.format(i,len(data[i].unique())))\n",
    "    print()\n",
    "    print()"
   ]
  },
  {
   "cell_type": "markdown",
   "metadata": {},
   "source": [
    "### Since the column values are same for the columns:\n",
    "    * Priceunit \n",
    "    * State \n",
    "    * itemName \n",
    "    * Mandiname\n",
    "    * unitarrivals \n",
    "    \n",
    "### It means even if we remove those column , it won't affect our model. \n",
    "### We can generalize it as this data is of prices of Potato in Azadpur Mand in Delhi where Price Unit is mesured in          Rs/Quintal and Unit of arrivals in in Tonnes. \n",
    "### And hence can be removed.  "
   ]
  },
  {
   "cell_type": "code",
   "execution_count": 45,
   "metadata": {},
   "outputs": [],
   "source": [
    "## So droping the columns accoring to the above analysis\n",
    "p_data = data.drop(['priceUnit','state','itemName','mandiName','unitArrivals'],axis=1)"
   ]
  },
  {
   "cell_type": "code",
   "execution_count": 46,
   "metadata": {},
   "outputs": [
    {
     "data": {
      "text/html": [
       "<div>\n",
       "<style scoped>\n",
       "    .dataframe tbody tr th:only-of-type {\n",
       "        vertical-align: middle;\n",
       "    }\n",
       "\n",
       "    .dataframe tbody tr th {\n",
       "        vertical-align: top;\n",
       "    }\n",
       "\n",
       "    .dataframe thead th {\n",
       "        text-align: right;\n",
       "    }\n",
       "</style>\n",
       "<table border=\"1\" class=\"dataframe\">\n",
       "  <thead>\n",
       "    <tr style=\"text-align: right;\">\n",
       "      <th></th>\n",
       "      <th>priceDate</th>\n",
       "      <th>arrivals</th>\n",
       "      <th>variety</th>\n",
       "      <th>minPrice</th>\n",
       "      <th>maxPrice</th>\n",
       "      <th>modalPrice</th>\n",
       "    </tr>\n",
       "  </thead>\n",
       "  <tbody>\n",
       "    <tr>\n",
       "      <th>0</th>\n",
       "      <td>2005-04-11</td>\n",
       "      <td>106.0</td>\n",
       "      <td>F.A.Q.</td>\n",
       "      <td>300.0</td>\n",
       "      <td>663.0</td>\n",
       "      <td>475.0</td>\n",
       "    </tr>\n",
       "    <tr>\n",
       "      <th>1</th>\n",
       "      <td>2005-04-12</td>\n",
       "      <td>1745.0</td>\n",
       "      <td>F.A.Q.</td>\n",
       "      <td>325.0</td>\n",
       "      <td>688.0</td>\n",
       "      <td>500.0</td>\n",
       "    </tr>\n",
       "    <tr>\n",
       "      <th>2</th>\n",
       "      <td>2005-04-13</td>\n",
       "      <td>1233.0</td>\n",
       "      <td>F.A.Q.</td>\n",
       "      <td>300.0</td>\n",
       "      <td>688.0</td>\n",
       "      <td>488.0</td>\n",
       "    </tr>\n",
       "    <tr>\n",
       "      <th>3</th>\n",
       "      <td>2005-04-16</td>\n",
       "      <td>1654.0</td>\n",
       "      <td>F.A.Q.</td>\n",
       "      <td>350.0</td>\n",
       "      <td>650.0</td>\n",
       "      <td>475.0</td>\n",
       "    </tr>\n",
       "    <tr>\n",
       "      <th>4</th>\n",
       "      <td>2005-04-18</td>\n",
       "      <td>26.0</td>\n",
       "      <td>F.A.Q.</td>\n",
       "      <td>350.0</td>\n",
       "      <td>650.0</td>\n",
       "      <td>475.0</td>\n",
       "    </tr>\n",
       "    <tr>\n",
       "      <th>...</th>\n",
       "      <td>...</td>\n",
       "      <td>...</td>\n",
       "      <td>...</td>\n",
       "      <td>...</td>\n",
       "      <td>...</td>\n",
       "      <td>...</td>\n",
       "    </tr>\n",
       "    <tr>\n",
       "      <th>3800</th>\n",
       "      <td>2018-08-27</td>\n",
       "      <td>97.1</td>\n",
       "      <td>Potato</td>\n",
       "      <td>700.0</td>\n",
       "      <td>2400.0</td>\n",
       "      <td>1410.0</td>\n",
       "    </tr>\n",
       "    <tr>\n",
       "      <th>3801</th>\n",
       "      <td>2018-08-28</td>\n",
       "      <td>973.5</td>\n",
       "      <td>Potato</td>\n",
       "      <td>700.0</td>\n",
       "      <td>2400.0</td>\n",
       "      <td>1410.0</td>\n",
       "    </tr>\n",
       "    <tr>\n",
       "      <th>3802</th>\n",
       "      <td>2018-08-29</td>\n",
       "      <td>1317.9</td>\n",
       "      <td>Potato</td>\n",
       "      <td>700.0</td>\n",
       "      <td>2400.0</td>\n",
       "      <td>1410.0</td>\n",
       "    </tr>\n",
       "    <tr>\n",
       "      <th>3803</th>\n",
       "      <td>2018-08-30</td>\n",
       "      <td>1375.3</td>\n",
       "      <td>Potato</td>\n",
       "      <td>700.0</td>\n",
       "      <td>2400.0</td>\n",
       "      <td>1410.0</td>\n",
       "    </tr>\n",
       "    <tr>\n",
       "      <th>3804</th>\n",
       "      <td>2018-08-31</td>\n",
       "      <td>1121.0</td>\n",
       "      <td>Potato</td>\n",
       "      <td>700.0</td>\n",
       "      <td>2400.0</td>\n",
       "      <td>1411.0</td>\n",
       "    </tr>\n",
       "  </tbody>\n",
       "</table>\n",
       "<p>3805 rows × 6 columns</p>\n",
       "</div>"
      ],
      "text/plain": [
       "       priceDate  arrivals variety  minPrice  maxPrice  modalPrice\n",
       "0     2005-04-11     106.0  F.A.Q.     300.0     663.0       475.0\n",
       "1     2005-04-12    1745.0  F.A.Q.     325.0     688.0       500.0\n",
       "2     2005-04-13    1233.0  F.A.Q.     300.0     688.0       488.0\n",
       "3     2005-04-16    1654.0  F.A.Q.     350.0     650.0       475.0\n",
       "4     2005-04-18      26.0  F.A.Q.     350.0     650.0       475.0\n",
       "...          ...       ...     ...       ...       ...         ...\n",
       "3800  2018-08-27      97.1  Potato     700.0    2400.0      1410.0\n",
       "3801  2018-08-28     973.5  Potato     700.0    2400.0      1410.0\n",
       "3802  2018-08-29    1317.9  Potato     700.0    2400.0      1410.0\n",
       "3803  2018-08-30    1375.3  Potato     700.0    2400.0      1410.0\n",
       "3804  2018-08-31    1121.0  Potato     700.0    2400.0      1411.0\n",
       "\n",
       "[3805 rows x 6 columns]"
      ]
     },
     "execution_count": 46,
     "metadata": {},
     "output_type": "execute_result"
    }
   ],
   "source": [
    "p_data"
   ]
  },
  {
   "cell_type": "markdown",
   "metadata": {},
   "source": [
    "## Now we are left with 6 columns. "
   ]
  },
  {
   "cell_type": "code",
   "execution_count": 47,
   "metadata": {},
   "outputs": [
    {
     "data": {
      "text/plain": [
       "priceDate      0\n",
       "arrivals      27\n",
       "variety        0\n",
       "minPrice       1\n",
       "maxPrice       1\n",
       "modalPrice    10\n",
       "dtype: int64"
      ]
     },
     "execution_count": 47,
     "metadata": {},
     "output_type": "execute_result"
    }
   ],
   "source": [
    "## Finding the number of null values in the data.\n",
    "p_data.isnull().sum()"
   ]
  },
  {
   "cell_type": "code",
   "execution_count": 48,
   "metadata": {},
   "outputs": [
    {
     "name": "stdout",
     "output_type": "stream",
     "text": [
      "percentage of null_value:0.709592641261498\n",
      "\n",
      "\n",
      "percentage of null_value:0.026281208935611037\n"
     ]
    }
   ],
   "source": [
    "##Percentage of Null data for each major entity\n",
    "print(f'percentage of null_value:{(p_data.arrivals.isnull().sum()/p_data.shape[0])*100}')\n",
    "print()\n",
    "print()\n",
    "print(f'percentage of null_value:{(p_data.minPrice.isnull().sum()/p_data.minPrice.shape[0])*100}')"
   ]
  },
  {
   "cell_type": "code",
   "execution_count": 49,
   "metadata": {},
   "outputs": [],
   "source": [
    "## Since very less percentage of points are NULL , we can drop them. "
   ]
  },
  {
   "cell_type": "code",
   "execution_count": 50,
   "metadata": {},
   "outputs": [
    {
     "data": {
      "text/html": [
       "<div>\n",
       "<style scoped>\n",
       "    .dataframe tbody tr th:only-of-type {\n",
       "        vertical-align: middle;\n",
       "    }\n",
       "\n",
       "    .dataframe tbody tr th {\n",
       "        vertical-align: top;\n",
       "    }\n",
       "\n",
       "    .dataframe thead th {\n",
       "        text-align: right;\n",
       "    }\n",
       "</style>\n",
       "<table border=\"1\" class=\"dataframe\">\n",
       "  <thead>\n",
       "    <tr style=\"text-align: right;\">\n",
       "      <th></th>\n",
       "      <th>priceDate</th>\n",
       "      <th>arrivals</th>\n",
       "      <th>variety</th>\n",
       "      <th>minPrice</th>\n",
       "      <th>maxPrice</th>\n",
       "      <th>modalPrice</th>\n",
       "    </tr>\n",
       "  </thead>\n",
       "  <tbody>\n",
       "    <tr>\n",
       "      <th>0</th>\n",
       "      <td>2005-04-11</td>\n",
       "      <td>106.0</td>\n",
       "      <td>F.A.Q.</td>\n",
       "      <td>300.0</td>\n",
       "      <td>663.0</td>\n",
       "      <td>475.0</td>\n",
       "    </tr>\n",
       "    <tr>\n",
       "      <th>1</th>\n",
       "      <td>2005-04-12</td>\n",
       "      <td>1745.0</td>\n",
       "      <td>F.A.Q.</td>\n",
       "      <td>325.0</td>\n",
       "      <td>688.0</td>\n",
       "      <td>500.0</td>\n",
       "    </tr>\n",
       "    <tr>\n",
       "      <th>2</th>\n",
       "      <td>2005-04-13</td>\n",
       "      <td>1233.0</td>\n",
       "      <td>F.A.Q.</td>\n",
       "      <td>300.0</td>\n",
       "      <td>688.0</td>\n",
       "      <td>488.0</td>\n",
       "    </tr>\n",
       "    <tr>\n",
       "      <th>3</th>\n",
       "      <td>2005-04-16</td>\n",
       "      <td>1654.0</td>\n",
       "      <td>F.A.Q.</td>\n",
       "      <td>350.0</td>\n",
       "      <td>650.0</td>\n",
       "      <td>475.0</td>\n",
       "    </tr>\n",
       "    <tr>\n",
       "      <th>4</th>\n",
       "      <td>2005-04-18</td>\n",
       "      <td>26.0</td>\n",
       "      <td>F.A.Q.</td>\n",
       "      <td>350.0</td>\n",
       "      <td>650.0</td>\n",
       "      <td>475.0</td>\n",
       "    </tr>\n",
       "    <tr>\n",
       "      <th>...</th>\n",
       "      <td>...</td>\n",
       "      <td>...</td>\n",
       "      <td>...</td>\n",
       "      <td>...</td>\n",
       "      <td>...</td>\n",
       "      <td>...</td>\n",
       "    </tr>\n",
       "    <tr>\n",
       "      <th>3800</th>\n",
       "      <td>2018-08-27</td>\n",
       "      <td>97.1</td>\n",
       "      <td>Potato</td>\n",
       "      <td>700.0</td>\n",
       "      <td>2400.0</td>\n",
       "      <td>1410.0</td>\n",
       "    </tr>\n",
       "    <tr>\n",
       "      <th>3801</th>\n",
       "      <td>2018-08-28</td>\n",
       "      <td>973.5</td>\n",
       "      <td>Potato</td>\n",
       "      <td>700.0</td>\n",
       "      <td>2400.0</td>\n",
       "      <td>1410.0</td>\n",
       "    </tr>\n",
       "    <tr>\n",
       "      <th>3802</th>\n",
       "      <td>2018-08-29</td>\n",
       "      <td>1317.9</td>\n",
       "      <td>Potato</td>\n",
       "      <td>700.0</td>\n",
       "      <td>2400.0</td>\n",
       "      <td>1410.0</td>\n",
       "    </tr>\n",
       "    <tr>\n",
       "      <th>3803</th>\n",
       "      <td>2018-08-30</td>\n",
       "      <td>1375.3</td>\n",
       "      <td>Potato</td>\n",
       "      <td>700.0</td>\n",
       "      <td>2400.0</td>\n",
       "      <td>1410.0</td>\n",
       "    </tr>\n",
       "    <tr>\n",
       "      <th>3804</th>\n",
       "      <td>2018-08-31</td>\n",
       "      <td>1121.0</td>\n",
       "      <td>Potato</td>\n",
       "      <td>700.0</td>\n",
       "      <td>2400.0</td>\n",
       "      <td>1411.0</td>\n",
       "    </tr>\n",
       "  </tbody>\n",
       "</table>\n",
       "<p>3768 rows × 6 columns</p>\n",
       "</div>"
      ],
      "text/plain": [
       "       priceDate  arrivals variety  minPrice  maxPrice  modalPrice\n",
       "0     2005-04-11     106.0  F.A.Q.     300.0     663.0       475.0\n",
       "1     2005-04-12    1745.0  F.A.Q.     325.0     688.0       500.0\n",
       "2     2005-04-13    1233.0  F.A.Q.     300.0     688.0       488.0\n",
       "3     2005-04-16    1654.0  F.A.Q.     350.0     650.0       475.0\n",
       "4     2005-04-18      26.0  F.A.Q.     350.0     650.0       475.0\n",
       "...          ...       ...     ...       ...       ...         ...\n",
       "3800  2018-08-27      97.1  Potato     700.0    2400.0      1410.0\n",
       "3801  2018-08-28     973.5  Potato     700.0    2400.0      1410.0\n",
       "3802  2018-08-29    1317.9  Potato     700.0    2400.0      1410.0\n",
       "3803  2018-08-30    1375.3  Potato     700.0    2400.0      1410.0\n",
       "3804  2018-08-31    1121.0  Potato     700.0    2400.0      1411.0\n",
       "\n",
       "[3768 rows x 6 columns]"
      ]
     },
     "execution_count": 50,
     "metadata": {},
     "output_type": "execute_result"
    }
   ],
   "source": [
    "## Dropping all the rows with NULL VALUES \n",
    "p_data = p_data.dropna()\n",
    "p_data"
   ]
  },
  {
   "cell_type": "code",
   "execution_count": 51,
   "metadata": {},
   "outputs": [
    {
     "data": {
      "text/plain": [
       "priceDate     0\n",
       "arrivals      0\n",
       "variety       0\n",
       "minPrice      0\n",
       "maxPrice      0\n",
       "modalPrice    0\n",
       "dtype: int64"
      ]
     },
     "execution_count": 51,
     "metadata": {},
     "output_type": "execute_result"
    }
   ],
   "source": [
    "## Hence how there are no null values \n",
    "p_data.isnull().sum()"
   ]
  },
  {
   "cell_type": "code",
   "execution_count": 54,
   "metadata": {},
   "outputs": [],
   "source": [
    "## Saving the cleaned data in another csv file. \n",
    "p_data = p_data.drop(['variety'],axis=1)"
   ]
  },
  {
   "cell_type": "code",
   "execution_count": 52,
   "metadata": {},
   "outputs": [],
   "source": [
    "## So here we have succefully removed all the NULL Values "
   ]
  },
  {
   "cell_type": "code",
   "execution_count": 55,
   "metadata": {
    "scrolled": false
   },
   "outputs": [
    {
     "data": {
      "text/html": [
       "<div>\n",
       "<style scoped>\n",
       "    .dataframe tbody tr th:only-of-type {\n",
       "        vertical-align: middle;\n",
       "    }\n",
       "\n",
       "    .dataframe tbody tr th {\n",
       "        vertical-align: top;\n",
       "    }\n",
       "\n",
       "    .dataframe thead th {\n",
       "        text-align: right;\n",
       "    }\n",
       "</style>\n",
       "<table border=\"1\" class=\"dataframe\">\n",
       "  <thead>\n",
       "    <tr style=\"text-align: right;\">\n",
       "      <th></th>\n",
       "      <th>priceDate</th>\n",
       "      <th>arrivals</th>\n",
       "      <th>minPrice</th>\n",
       "      <th>maxPrice</th>\n",
       "      <th>modalPrice</th>\n",
       "    </tr>\n",
       "  </thead>\n",
       "  <tbody>\n",
       "    <tr>\n",
       "      <th>0</th>\n",
       "      <td>2005-04-11</td>\n",
       "      <td>106.0</td>\n",
       "      <td>300.0</td>\n",
       "      <td>663.0</td>\n",
       "      <td>475.0</td>\n",
       "    </tr>\n",
       "    <tr>\n",
       "      <th>1</th>\n",
       "      <td>2005-04-12</td>\n",
       "      <td>1745.0</td>\n",
       "      <td>325.0</td>\n",
       "      <td>688.0</td>\n",
       "      <td>500.0</td>\n",
       "    </tr>\n",
       "    <tr>\n",
       "      <th>2</th>\n",
       "      <td>2005-04-13</td>\n",
       "      <td>1233.0</td>\n",
       "      <td>300.0</td>\n",
       "      <td>688.0</td>\n",
       "      <td>488.0</td>\n",
       "    </tr>\n",
       "    <tr>\n",
       "      <th>3</th>\n",
       "      <td>2005-04-16</td>\n",
       "      <td>1654.0</td>\n",
       "      <td>350.0</td>\n",
       "      <td>650.0</td>\n",
       "      <td>475.0</td>\n",
       "    </tr>\n",
       "    <tr>\n",
       "      <th>4</th>\n",
       "      <td>2005-04-18</td>\n",
       "      <td>26.0</td>\n",
       "      <td>350.0</td>\n",
       "      <td>650.0</td>\n",
       "      <td>475.0</td>\n",
       "    </tr>\n",
       "    <tr>\n",
       "      <th>...</th>\n",
       "      <td>...</td>\n",
       "      <td>...</td>\n",
       "      <td>...</td>\n",
       "      <td>...</td>\n",
       "      <td>...</td>\n",
       "    </tr>\n",
       "    <tr>\n",
       "      <th>3800</th>\n",
       "      <td>2018-08-27</td>\n",
       "      <td>97.1</td>\n",
       "      <td>700.0</td>\n",
       "      <td>2400.0</td>\n",
       "      <td>1410.0</td>\n",
       "    </tr>\n",
       "    <tr>\n",
       "      <th>3801</th>\n",
       "      <td>2018-08-28</td>\n",
       "      <td>973.5</td>\n",
       "      <td>700.0</td>\n",
       "      <td>2400.0</td>\n",
       "      <td>1410.0</td>\n",
       "    </tr>\n",
       "    <tr>\n",
       "      <th>3802</th>\n",
       "      <td>2018-08-29</td>\n",
       "      <td>1317.9</td>\n",
       "      <td>700.0</td>\n",
       "      <td>2400.0</td>\n",
       "      <td>1410.0</td>\n",
       "    </tr>\n",
       "    <tr>\n",
       "      <th>3803</th>\n",
       "      <td>2018-08-30</td>\n",
       "      <td>1375.3</td>\n",
       "      <td>700.0</td>\n",
       "      <td>2400.0</td>\n",
       "      <td>1410.0</td>\n",
       "    </tr>\n",
       "    <tr>\n",
       "      <th>3804</th>\n",
       "      <td>2018-08-31</td>\n",
       "      <td>1121.0</td>\n",
       "      <td>700.0</td>\n",
       "      <td>2400.0</td>\n",
       "      <td>1411.0</td>\n",
       "    </tr>\n",
       "  </tbody>\n",
       "</table>\n",
       "<p>3768 rows × 5 columns</p>\n",
       "</div>"
      ],
      "text/plain": [
       "       priceDate  arrivals  minPrice  maxPrice  modalPrice\n",
       "0     2005-04-11     106.0     300.0     663.0       475.0\n",
       "1     2005-04-12    1745.0     325.0     688.0       500.0\n",
       "2     2005-04-13    1233.0     300.0     688.0       488.0\n",
       "3     2005-04-16    1654.0     350.0     650.0       475.0\n",
       "4     2005-04-18      26.0     350.0     650.0       475.0\n",
       "...          ...       ...       ...       ...         ...\n",
       "3800  2018-08-27      97.1     700.0    2400.0      1410.0\n",
       "3801  2018-08-28     973.5     700.0    2400.0      1410.0\n",
       "3802  2018-08-29    1317.9     700.0    2400.0      1410.0\n",
       "3803  2018-08-30    1375.3     700.0    2400.0      1410.0\n",
       "3804  2018-08-31    1121.0     700.0    2400.0      1411.0\n",
       "\n",
       "[3768 rows x 5 columns]"
      ]
     },
     "execution_count": 55,
     "metadata": {},
     "output_type": "execute_result"
    }
   ],
   "source": [
    "p_data"
   ]
  },
  {
   "cell_type": "code",
   "execution_count": 85,
   "metadata": {},
   "outputs": [],
   "source": [
    "## Loading the saved csv file. \n",
    "p_data.to_csv('p_data.csv',index=False)"
   ]
  },
  {
   "cell_type": "code",
   "execution_count": 95,
   "metadata": {},
   "outputs": [],
   "source": [
    "## Setting the priceDate as index \n",
    "p_data = pd.read_csv('p_data.csv')\n",
    "tdi = pd.DatetimeIndex(p_data.priceDate)\n",
    "p_data.set_index(tdi,inplace=True)\n",
    "p_data.drop(columns='priceDate',inplace=True)\n",
    "p_data.index.name = 'priceDate'"
   ]
  },
  {
   "cell_type": "code",
   "execution_count": 96,
   "metadata": {},
   "outputs": [
    {
     "data": {
      "text/html": [
       "<div>\n",
       "<style scoped>\n",
       "    .dataframe tbody tr th:only-of-type {\n",
       "        vertical-align: middle;\n",
       "    }\n",
       "\n",
       "    .dataframe tbody tr th {\n",
       "        vertical-align: top;\n",
       "    }\n",
       "\n",
       "    .dataframe thead th {\n",
       "        text-align: right;\n",
       "    }\n",
       "</style>\n",
       "<table border=\"1\" class=\"dataframe\">\n",
       "  <thead>\n",
       "    <tr style=\"text-align: right;\">\n",
       "      <th></th>\n",
       "      <th>arrivals</th>\n",
       "      <th>minPrice</th>\n",
       "      <th>maxPrice</th>\n",
       "      <th>modalPrice</th>\n",
       "    </tr>\n",
       "    <tr>\n",
       "      <th>priceDate</th>\n",
       "      <th></th>\n",
       "      <th></th>\n",
       "      <th></th>\n",
       "      <th></th>\n",
       "    </tr>\n",
       "  </thead>\n",
       "  <tbody>\n",
       "    <tr>\n",
       "      <th>2005-04-11</th>\n",
       "      <td>106.0</td>\n",
       "      <td>300.0</td>\n",
       "      <td>663.0</td>\n",
       "      <td>475.0</td>\n",
       "    </tr>\n",
       "    <tr>\n",
       "      <th>2005-04-12</th>\n",
       "      <td>1745.0</td>\n",
       "      <td>325.0</td>\n",
       "      <td>688.0</td>\n",
       "      <td>500.0</td>\n",
       "    </tr>\n",
       "    <tr>\n",
       "      <th>2005-04-13</th>\n",
       "      <td>1233.0</td>\n",
       "      <td>300.0</td>\n",
       "      <td>688.0</td>\n",
       "      <td>488.0</td>\n",
       "    </tr>\n",
       "    <tr>\n",
       "      <th>2005-04-16</th>\n",
       "      <td>1654.0</td>\n",
       "      <td>350.0</td>\n",
       "      <td>650.0</td>\n",
       "      <td>475.0</td>\n",
       "    </tr>\n",
       "    <tr>\n",
       "      <th>2005-04-18</th>\n",
       "      <td>26.0</td>\n",
       "      <td>350.0</td>\n",
       "      <td>650.0</td>\n",
       "      <td>475.0</td>\n",
       "    </tr>\n",
       "  </tbody>\n",
       "</table>\n",
       "</div>"
      ],
      "text/plain": [
       "            arrivals  minPrice  maxPrice  modalPrice\n",
       "priceDate                                           \n",
       "2005-04-11     106.0     300.0     663.0       475.0\n",
       "2005-04-12    1745.0     325.0     688.0       500.0\n",
       "2005-04-13    1233.0     300.0     688.0       488.0\n",
       "2005-04-16    1654.0     350.0     650.0       475.0\n",
       "2005-04-18      26.0     350.0     650.0       475.0"
      ]
     },
     "execution_count": 96,
     "metadata": {},
     "output_type": "execute_result"
    }
   ],
   "source": [
    "p_data.head()"
   ]
  },
  {
   "cell_type": "code",
   "execution_count": 97,
   "metadata": {},
   "outputs": [],
   "source": [
    "## Creating 3 diferent tables for each Prediction\n",
    "mindata = p_data[['minPrice']]\n",
    "maxdata = p_data[['maxPrice']]\n",
    "modalPrice = p_data[['modalPrice']]"
   ]
  },
  {
   "cell_type": "markdown",
   "metadata": {},
   "source": [
    "## Model For prediction of minPrice "
   ]
  },
  {
   "cell_type": "code",
   "execution_count": 99,
   "metadata": {},
   "outputs": [
    {
     "data": {
      "text/html": [
       "<div>\n",
       "<style scoped>\n",
       "    .dataframe tbody tr th:only-of-type {\n",
       "        vertical-align: middle;\n",
       "    }\n",
       "\n",
       "    .dataframe tbody tr th {\n",
       "        vertical-align: top;\n",
       "    }\n",
       "\n",
       "    .dataframe thead th {\n",
       "        text-align: right;\n",
       "    }\n",
       "</style>\n",
       "<table border=\"1\" class=\"dataframe\">\n",
       "  <thead>\n",
       "    <tr style=\"text-align: right;\">\n",
       "      <th></th>\n",
       "      <th>minPrice</th>\n",
       "    </tr>\n",
       "    <tr>\n",
       "      <th>priceDate</th>\n",
       "      <th></th>\n",
       "    </tr>\n",
       "  </thead>\n",
       "  <tbody>\n",
       "    <tr>\n",
       "      <th>2005-04-11</th>\n",
       "      <td>300.0</td>\n",
       "    </tr>\n",
       "    <tr>\n",
       "      <th>2005-04-12</th>\n",
       "      <td>325.0</td>\n",
       "    </tr>\n",
       "    <tr>\n",
       "      <th>2005-04-13</th>\n",
       "      <td>300.0</td>\n",
       "    </tr>\n",
       "    <tr>\n",
       "      <th>2005-04-16</th>\n",
       "      <td>350.0</td>\n",
       "    </tr>\n",
       "    <tr>\n",
       "      <th>2005-04-18</th>\n",
       "      <td>350.0</td>\n",
       "    </tr>\n",
       "  </tbody>\n",
       "</table>\n",
       "</div>"
      ],
      "text/plain": [
       "            minPrice\n",
       "priceDate           \n",
       "2005-04-11     300.0\n",
       "2005-04-12     325.0\n",
       "2005-04-13     300.0\n",
       "2005-04-16     350.0\n",
       "2005-04-18     350.0"
      ]
     },
     "execution_count": 99,
     "metadata": {},
     "output_type": "execute_result"
    }
   ],
   "source": [
    "mindata.head()"
   ]
  },
  {
   "cell_type": "code",
   "execution_count": 119,
   "metadata": {},
   "outputs": [
    {
     "data": {
      "text/plain": [
       "<matplotlib.axes._subplots.AxesSubplot at 0x2a25cd9a808>"
      ]
     },
     "execution_count": 119,
     "metadata": {},
     "output_type": "execute_result"
    },
    {
     "data": {
      "image/png": "[encoded data removed]",
      "text/plain": [
       "<Figure size 432x288 with 1 Axes>"
      ]
     },
     "metadata": {
      "needs_background": "light"
     },
     "output_type": "display_data"
    }
   ],
   "source": [
    "mindata[['minPrice']].plot(title='min_price')"
   ]
  },
  {
   "cell_type": "code",
   "execution_count": 102,
   "metadata": {},
   "outputs": [],
   "source": [
    "## Decoposing the tie series and will check its trends and Seasonality in data \n"
   ]
  },
  {
   "cell_type": "code",
   "execution_count": 115,
   "metadata": {},
   "outputs": [
    {
     "name": "stderr",
     "output_type": "stream",
     "text": [
      "C:\\Users\\Admin\\miniconda3\\envs\\tensorflow\\lib\\site-packages\\statsmodels\\tsa\\base\\tsa_model.py:583: ValueWarning: A date index has been provided, but it has no associated frequency information and so will be ignored when e.g. forecasting.\n",
      "  ' ignored when e.g. forecasting.', ValueWarning)\n",
      "C:\\Users\\Admin\\miniconda3\\envs\\tensorflow\\lib\\site-packages\\statsmodels\\tsa\\holtwinters\\model.py:429: FutureWarning: After 0.13 initialization must be handled at model creation\n",
      "  FutureWarning,\n",
      "C:\\Users\\Admin\\miniconda3\\envs\\tensorflow\\lib\\site-packages\\statsmodels\\tsa\\holtwinters\\model.py:80: RuntimeWarning: overflow encountered in matmul\n",
      "  return err.T @ err\n",
      "C:\\Users\\Admin\\miniconda3\\envs\\tensorflow\\lib\\site-packages\\statsmodels\\tsa\\holtwinters\\model.py:922: ConvergenceWarning: Optimization failed to converge. Check mle_retvals.\n",
      "  ConvergenceWarning,\n",
      "C:\\Users\\Admin\\miniconda3\\envs\\tensorflow\\lib\\site-packages\\statsmodels\\tsa\\base\\tsa_model.py:379: ValueWarning: No supported index is available. Prediction results will be given with an integer index beginning at `start`.\n",
      "  ValueWarning)\n"
     ]
    }
   ],
   "source": [
    "fitted_model = ExponentialSmoothing(mindata['minPrice'],trend='mul',seasonal='mul',seasonal_periods=12).fit()\n",
    "min_score_predictions = fitted_model.forecast(30)"
   ]
  },
  {
   "cell_type": "markdown",
   "metadata": {},
   "source": [
    "## Model for prediction of Maxprice \n"
   ]
  },
  {
   "cell_type": "code",
   "execution_count": 118,
   "metadata": {},
   "outputs": [
    {
     "data": {
      "text/html": [
       "<div>\n",
       "<style scoped>\n",
       "    .dataframe tbody tr th:only-of-type {\n",
       "        vertical-align: middle;\n",
       "    }\n",
       "\n",
       "    .dataframe tbody tr th {\n",
       "        vertical-align: top;\n",
       "    }\n",
       "\n",
       "    .dataframe thead th {\n",
       "        text-align: right;\n",
       "    }\n",
       "</style>\n",
       "<table border=\"1\" class=\"dataframe\">\n",
       "  <thead>\n",
       "    <tr style=\"text-align: right;\">\n",
       "      <th></th>\n",
       "      <th>maxPrice</th>\n",
       "    </tr>\n",
       "    <tr>\n",
       "      <th>priceDate</th>\n",
       "      <th></th>\n",
       "    </tr>\n",
       "  </thead>\n",
       "  <tbody>\n",
       "    <tr>\n",
       "      <th>2005-04-11</th>\n",
       "      <td>663.0</td>\n",
       "    </tr>\n",
       "    <tr>\n",
       "      <th>2005-04-12</th>\n",
       "      <td>688.0</td>\n",
       "    </tr>\n",
       "    <tr>\n",
       "      <th>2005-04-13</th>\n",
       "      <td>688.0</td>\n",
       "    </tr>\n",
       "    <tr>\n",
       "      <th>2005-04-16</th>\n",
       "      <td>650.0</td>\n",
       "    </tr>\n",
       "    <tr>\n",
       "      <th>2005-04-18</th>\n",
       "      <td>650.0</td>\n",
       "    </tr>\n",
       "  </tbody>\n",
       "</table>\n",
       "</div>"
      ],
      "text/plain": [
       "            maxPrice\n",
       "priceDate           \n",
       "2005-04-11     663.0\n",
       "2005-04-12     688.0\n",
       "2005-04-13     688.0\n",
       "2005-04-16     650.0\n",
       "2005-04-18     650.0"
      ]
     },
     "execution_count": 118,
     "metadata": {},
     "output_type": "execute_result"
    }
   ],
   "source": [
    "maxdata.head()"
   ]
  },
  {
   "cell_type": "code",
   "execution_count": 120,
   "metadata": {},
   "outputs": [
    {
     "data": {
      "text/plain": [
       "<matplotlib.axes._subplots.AxesSubplot at 0x2a25aa437c8>"
      ]
     },
     "execution_count": 120,
     "metadata": {},
     "output_type": "execute_result"
    },
    {
     "data": {
      "image/png": "[encoded data removed]",
      "text/plain": [
       "<Figure size 432x288 with 1 Axes>"
      ]
     },
     "metadata": {
      "needs_background": "light"
     },
     "output_type": "display_data"
    }
   ],
   "source": [
    "maxdata[['maxPrice']].plot(title = 'Max Price')\n"
   ]
  },
  {
   "cell_type": "code",
   "execution_count": 122,
   "metadata": {},
   "outputs": [],
   "source": [
    "## Theres definately an outlier "
   ]
  },
  {
   "cell_type": "code",
   "execution_count": 124,
   "metadata": {},
   "outputs": [
    {
     "name": "stderr",
     "output_type": "stream",
     "text": [
      "C:\\Users\\Admin\\miniconda3\\envs\\tensorflow\\lib\\site-packages\\statsmodels\\tsa\\base\\tsa_model.py:583: ValueWarning: A date index has been provided, but it has no associated frequency information and so will be ignored when e.g. forecasting.\n",
      "  ' ignored when e.g. forecasting.', ValueWarning)\n",
      "C:\\Users\\Admin\\miniconda3\\envs\\tensorflow\\lib\\site-packages\\statsmodels\\tsa\\holtwinters\\model.py:429: FutureWarning: After 0.13 initialization must be handled at model creation\n",
      "  FutureWarning,\n",
      "C:\\Users\\Admin\\miniconda3\\envs\\tensorflow\\lib\\site-packages\\statsmodels\\tsa\\holtwinters\\model.py:80: RuntimeWarning: overflow encountered in matmul\n",
      "  return err.T @ err\n",
      "C:\\Users\\Admin\\miniconda3\\envs\\tensorflow\\lib\\site-packages\\statsmodels\\tsa\\holtwinters\\model.py:922: ConvergenceWarning: Optimization failed to converge. Check mle_retvals.\n",
      "  ConvergenceWarning,\n",
      "C:\\Users\\Admin\\miniconda3\\envs\\tensorflow\\lib\\site-packages\\statsmodels\\tsa\\base\\tsa_model.py:379: ValueWarning: No supported index is available. Prediction results will be given with an integer index beginning at `start`.\n",
      "  ValueWarning)\n"
     ]
    }
   ],
   "source": [
    "fitted_model = ExponentialSmoothing(maxdata['maxPrice'],trend='mul',seasonal='mul',seasonal_periods=12).fit()\n",
    "max_score_predictions = fitted_model.forecast(30)"
   ]
  },
  {
   "cell_type": "code",
   "execution_count": null,
   "metadata": {},
   "outputs": [],
   "source": []
  },
  {
   "cell_type": "markdown",
   "metadata": {},
   "source": [
    "## Prediction for ModalPrice "
   ]
  },
  {
   "cell_type": "code",
   "execution_count": 125,
   "metadata": {},
   "outputs": [
    {
     "data": {
      "text/html": [
       "<div>\n",
       "<style scoped>\n",
       "    .dataframe tbody tr th:only-of-type {\n",
       "        vertical-align: middle;\n",
       "    }\n",
       "\n",
       "    .dataframe tbody tr th {\n",
       "        vertical-align: top;\n",
       "    }\n",
       "\n",
       "    .dataframe thead th {\n",
       "        text-align: right;\n",
       "    }\n",
       "</style>\n",
       "<table border=\"1\" class=\"dataframe\">\n",
       "  <thead>\n",
       "    <tr style=\"text-align: right;\">\n",
       "      <th></th>\n",
       "      <th>modalPrice</th>\n",
       "    </tr>\n",
       "    <tr>\n",
       "      <th>priceDate</th>\n",
       "      <th></th>\n",
       "    </tr>\n",
       "  </thead>\n",
       "  <tbody>\n",
       "    <tr>\n",
       "      <th>2005-04-11</th>\n",
       "      <td>475.0</td>\n",
       "    </tr>\n",
       "    <tr>\n",
       "      <th>2005-04-12</th>\n",
       "      <td>500.0</td>\n",
       "    </tr>\n",
       "    <tr>\n",
       "      <th>2005-04-13</th>\n",
       "      <td>488.0</td>\n",
       "    </tr>\n",
       "    <tr>\n",
       "      <th>2005-04-16</th>\n",
       "      <td>475.0</td>\n",
       "    </tr>\n",
       "    <tr>\n",
       "      <th>2005-04-18</th>\n",
       "      <td>475.0</td>\n",
       "    </tr>\n",
       "  </tbody>\n",
       "</table>\n",
       "</div>"
      ],
      "text/plain": [
       "            modalPrice\n",
       "priceDate             \n",
       "2005-04-11       475.0\n",
       "2005-04-12       500.0\n",
       "2005-04-13       488.0\n",
       "2005-04-16       475.0\n",
       "2005-04-18       475.0"
      ]
     },
     "execution_count": 125,
     "metadata": {},
     "output_type": "execute_result"
    }
   ],
   "source": [
    "modalPrice.head()"
   ]
  },
  {
   "cell_type": "code",
   "execution_count": 126,
   "metadata": {},
   "outputs": [
    {
     "data": {
      "text/plain": [
       "<matplotlib.axes._subplots.AxesSubplot at 0x2a25cf11348>"
      ]
     },
     "execution_count": 126,
     "metadata": {},
     "output_type": "execute_result"
    },
    {
     "data": {
      "image/png": "[encoded data removed]",
      "text/plain": [
       "<Figure size 432x288 with 1 Axes>"
      ]
     },
     "metadata": {
      "needs_background": "light"
     },
     "output_type": "display_data"
    }
   ],
   "source": [
    "modalPrice[['modalPrice']].plot(title = 'ModalPrice')"
   ]
  },
  {
   "cell_type": "code",
   "execution_count": 127,
   "metadata": {},
   "outputs": [],
   "source": [
    "## There definately an outlier after 2015 "
   ]
  },
  {
   "cell_type": "code",
   "execution_count": 132,
   "metadata": {},
   "outputs": [
    {
     "name": "stderr",
     "output_type": "stream",
     "text": [
      "C:\\Users\\Admin\\miniconda3\\envs\\tensorflow\\lib\\site-packages\\statsmodels\\tsa\\base\\tsa_model.py:583: ValueWarning: A date index has been provided, but it has no associated frequency information and so will be ignored when e.g. forecasting.\n",
      "  ' ignored when e.g. forecasting.', ValueWarning)\n",
      "C:\\Users\\Admin\\miniconda3\\envs\\tensorflow\\lib\\site-packages\\statsmodels\\tsa\\holtwinters\\model.py:429: FutureWarning: After 0.13 initialization must be handled at model creation\n",
      "  FutureWarning,\n",
      "C:\\Users\\Admin\\miniconda3\\envs\\tensorflow\\lib\\site-packages\\statsmodels\\tsa\\holtwinters\\model.py:80: RuntimeWarning: overflow encountered in matmul\n",
      "  return err.T @ err\n",
      "C:\\Users\\Admin\\miniconda3\\envs\\tensorflow\\lib\\site-packages\\statsmodels\\tsa\\holtwinters\\model.py:922: ConvergenceWarning: Optimization failed to converge. Check mle_retvals.\n",
      "  ConvergenceWarning,\n",
      "C:\\Users\\Admin\\miniconda3\\envs\\tensorflow\\lib\\site-packages\\statsmodels\\tsa\\base\\tsa_model.py:379: ValueWarning: No supported index is available. Prediction results will be given with an integer index beginning at `start`.\n",
      "  ValueWarning)\n"
     ]
    }
   ],
   "source": [
    "fitted_model = ExponentialSmoothing(modalPrice['modalPrice'],trend='mul',seasonal='mul',seasonal_periods=12).fit()\n",
    "modal_score_predictions = fitted_model.forecast(30)\n"
   ]
  },
  {
   "cell_type": "markdown",
   "metadata": {},
   "source": [
    "## Creating the Final Dataframe "
   ]
  },
  {
   "cell_type": "code",
   "execution_count": 145,
   "metadata": {},
   "outputs": [
    {
     "name": "stdout",
     "output_type": "stream",
     "text": [
      "The starting date will be 2018-08-31 00:00:00\n",
      "The end date will be 2018-09-30 00:00:00\n"
     ]
    }
   ],
   "source": [
    "## The Starting date will be last Date in the Data \n",
    "## End date will be lastDate + 30 days \n",
    "print('The starting date will be {}'.format(p_data.index[-1]))\n",
    "print('The end date will be {}'.format(p_data.index[-1] + timedelta(days=30)))"
   ]
  },
  {
   "cell_type": "code",
   "execution_count": 163,
   "metadata": {},
   "outputs": [],
   "source": [
    "## Generating the timestamp of the predicted values \n",
    "## https://www.w3resource.com/python-exercises/date-time-exercise/python-date-time-exercise-50.php\n",
    "def daterange(date1, date2):\n",
    "    for n in range(int ((date2 - date1).days)+1):\n",
    "        yield date1 + timedelta(n)\n",
    "\n",
    "\n",
    "Prediction_dates = []\n",
    "start_dt = date(2018,8,31)\n",
    "end_dt = date(2018, 9, 30)\n",
    "for dt in daterange(start_dt, end_dt):\n",
    "    Prediction_dates.append(dt.strftime(\"%Y-%m-%d\"))"
   ]
  },
  {
   "cell_type": "code",
   "execution_count": 177,
   "metadata": {},
   "outputs": [],
   "source": [
    "## Creating the Final Predicted Dataframe \n",
    "data = {'priceDate':Prediction_dates[1::],'minPrice':min_score_predictions,'maxPrice':max_score_predictions,'modalPrice':modal_score_predictions}\n",
    "Predicted_Data = pd.DataFrame(data)\n"
   ]
  },
  {
   "cell_type": "code",
   "execution_count": 179,
   "metadata": {},
   "outputs": [],
   "source": [
    "tdi = pd.DatetimeIndex(Predicted_Data.priceDate)\n",
    "Predicted_Data.set_index(tdi,inplace=True)\n",
    "Predicted_Data.drop(columns='priceDate',inplace=True)\n",
    "Predicted_Data.index.name = 'priceDate'"
   ]
  },
  {
   "cell_type": "code",
   "execution_count": 185,
   "metadata": {},
   "outputs": [
    {
     "data": {
      "text/html": [
       "<div>\n",
       "<style scoped>\n",
       "    .dataframe tbody tr th:only-of-type {\n",
       "        vertical-align: middle;\n",
       "    }\n",
       "\n",
       "    .dataframe tbody tr th {\n",
       "        vertical-align: top;\n",
       "    }\n",
       "\n",
       "    .dataframe thead th {\n",
       "        text-align: right;\n",
       "    }\n",
       "</style>\n",
       "<table border=\"1\" class=\"dataframe\">\n",
       "  <thead>\n",
       "    <tr style=\"text-align: right;\">\n",
       "      <th></th>\n",
       "      <th>minPrice</th>\n",
       "      <th>maxPrice</th>\n",
       "      <th>modalPrice</th>\n",
       "    </tr>\n",
       "    <tr>\n",
       "      <th>priceDate</th>\n",
       "      <th></th>\n",
       "      <th></th>\n",
       "      <th></th>\n",
       "    </tr>\n",
       "  </thead>\n",
       "  <tbody>\n",
       "    <tr>\n",
       "      <th>2018-09-01</th>\n",
       "      <td>709.192480</td>\n",
       "      <td>2367.538476</td>\n",
       "      <td>1394.257760</td>\n",
       "    </tr>\n",
       "    <tr>\n",
       "      <th>2018-09-02</th>\n",
       "      <td>722.657934</td>\n",
       "      <td>2409.858004</td>\n",
       "      <td>1409.378100</td>\n",
       "    </tr>\n",
       "    <tr>\n",
       "      <th>2018-09-03</th>\n",
       "      <td>716.313258</td>\n",
       "      <td>2414.559900</td>\n",
       "      <td>1404.943079</td>\n",
       "    </tr>\n",
       "    <tr>\n",
       "      <th>2018-09-04</th>\n",
       "      <td>724.435470</td>\n",
       "      <td>2423.168117</td>\n",
       "      <td>1416.156648</td>\n",
       "    </tr>\n",
       "    <tr>\n",
       "      <th>2018-09-05</th>\n",
       "      <td>736.867935</td>\n",
       "      <td>2384.320828</td>\n",
       "      <td>1429.953853</td>\n",
       "    </tr>\n",
       "  </tbody>\n",
       "</table>\n",
       "</div>"
      ],
      "text/plain": [
       "              minPrice     maxPrice   modalPrice\n",
       "priceDate                                       \n",
       "2018-09-01  709.192480  2367.538476  1394.257760\n",
       "2018-09-02  722.657934  2409.858004  1409.378100\n",
       "2018-09-03  716.313258  2414.559900  1404.943079\n",
       "2018-09-04  724.435470  2423.168117  1416.156648\n",
       "2018-09-05  736.867935  2384.320828  1429.953853"
      ]
     },
     "execution_count": 185,
     "metadata": {},
     "output_type": "execute_result"
    }
   ],
   "source": [
    "Predicted_Data.head()"
   ]
  },
  {
   "cell_type": "code",
   "execution_count": 187,
   "metadata": {},
   "outputs": [
    {
     "data": {
      "text/plain": [
       "(30, 3)"
      ]
     },
     "execution_count": 187,
     "metadata": {},
     "output_type": "execute_result"
    }
   ],
   "source": [
    "Predicted_Data.shape"
   ]
  },
  {
   "cell_type": "code",
   "execution_count": 183,
   "metadata": {},
   "outputs": [
    {
     "name": "stdout",
     "output_type": "stream",
     "text": [
      "\n",
      "\n",
      "\n",
      "\n",
      "\n",
      "\n"
     ]
    },
    {
     "data": {
      "image/png": "[encoded data removed]",
      "text/plain": [
       "<Figure size 432x288 with 1 Axes>"
      ]
     },
     "metadata": {
      "needs_background": "light"
     },
     "output_type": "display_data"
    },
    {
     "data": {
      "image/png": "[encoded data removed]",
      "text/plain": [
       "<Figure size 432x288 with 1 Axes>"
      ]
     },
     "metadata": {
      "needs_background": "light"
     },
     "output_type": "display_data"
    },
    {
     "data": {
      "image/png": "[encoded data removed]",
      "text/plain": [
       "<Figure size 432x288 with 1 Axes>"
      ]
     },
     "metadata": {
      "needs_background": "light"
     },
     "output_type": "display_data"
    }
   ],
   "source": [
    "Predicted_Data[['minPrice']].plot(title = 'PriceDate vs MinPrice')\n",
    "print()\n",
    "print()\n",
    "Predicted_Data[['maxPrice']].plot(title = 'PriceDate vs MaxPrice')\n",
    "print()\n",
    "print()\n",
    "Predicted_Data[['modalPrice']].plot(title = 'PriceDate vs ModalPrice')\n",
    "print()\n",
    "print()"
   ]
  },
  {
   "cell_type": "markdown",
   "metadata": {},
   "source": [
    "## Observation \n",
    "\n",
    "    * Minimum keeps increasing with the time \n",
    "    * Maximum Price remains except for the first two days of 1st and 3rd week.\n",
    "    * Model Price is at peak in first 2-3 days of 1st and 3rd week."
   ]
  }
 ],
 "metadata": {
  "kernelspec": {
   "display_name": "Python 3.7 (tensorflow)",
   "language": "python",
   "name": "tensorflow"
  },
  "language_info": {
   "codemirror_mode": {
    "name": "ipython",
    "version": 3
   },
   "file_extension": ".py",
   "mimetype": "text/x-python",
   "name": "python",
   "nbconvert_exporter": "python",
   "pygments_lexer": "ipython3",
   "version": "3.7.9"
  }
 },
 "nbformat": 4,
 "nbformat_minor": 4
}
